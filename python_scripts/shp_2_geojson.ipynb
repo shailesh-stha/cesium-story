{
 "cells": [
  {
   "cell_type": "code",
   "execution_count": 7,
   "metadata": {},
   "outputs": [],
   "source": [
    "import geopandas as gpd"
   ]
  },
  {
   "cell_type": "code",
   "execution_count": 8,
   "metadata": {},
   "outputs": [],
   "source": [
    "# Function to read shapefile and save as GeoJSON in WGS84 CRS\n",
    "def convert_shapefile_to_geojson(input_shapefile, output_geojson):\n",
    "    # Read the shapefile\n",
    "    gdf = gpd.read_file(input_shapefile)\n",
    "    \n",
    "    # Convert to WGS84 CRS\n",
    "    gdf = gdf.to_crs(epsg=4326)\n",
    "    \n",
    "    # Save as GeoJSON\n",
    "    gdf.to_file(output_geojson, driver='GeoJSON')"
   ]
  },
  {
   "cell_type": "code",
   "execution_count": 10,
   "metadata": {},
   "outputs": [],
   "source": [
    "# Example usage\n",
    "input_shapefile = r\"F:\\OneDrive - str.ucture GmbH\\CoKLIMAx\\_Palm_DataPreparation\\_Vector\\0_AOI\\03_AOI_Child_II.shp\"\n",
    "output_geojson = r\"F:\\_str.ucture\\CoKLIMAX\\palm_test_scripts\\cesium\\data\\geojson\\aoi_child_ii.geojson\"\n",
    "\n",
    "convert_shapefile_to_geojson(input_shapefile, output_geojson)\n"
   ]
  }
 ],
 "metadata": {
  "kernelspec": {
   "display_name": "venv",
   "language": "python",
   "name": "python3"
  },
  "language_info": {
   "codemirror_mode": {
    "name": "ipython",
    "version": 3
   },
   "file_extension": ".py",
   "mimetype": "text/x-python",
   "name": "python",
   "nbconvert_exporter": "python",
   "pygments_lexer": "ipython3",
   "version": "3.10.0"
  }
 },
 "nbformat": 4,
 "nbformat_minor": 2
}
